{
 "cells": [
  {
   "cell_type": "markdown",
   "id": "5c3d7ae3",
   "metadata": {},
   "source": [
    "\n",
    "# Titanic Data Analysis with Probability\n"
   ]
  },
  {
   "cell_type": "code",
   "execution_count": 1,
   "id": "696a4048",
   "metadata": {},
   "outputs": [],
   "source": [
    "import numpy as np\n",
    "import pandas as pd\n",
    "import matplotlib.pyplot as plt\n",
    "import seaborn as sns"
   ]
  },
  {
   "cell_type": "markdown",
   "id": "2d75a270",
   "metadata": {},
   "source": [
    "## Part A – Data Exploration (Pandas And Numpy)"
   ]
  },
  {
   "cell_type": "markdown",
   "id": "ba619cb5",
   "metadata": {},
   "source": [
    "##### Load the dataset"
   ]
  },
  {
   "cell_type": "code",
   "execution_count": 315,
   "id": "dc75c5a7",
   "metadata": {},
   "outputs": [],
   "source": [
    "df = pd.read_csv(\"Titanic-Dataset.csv\")\n"
   ]
  },
  {
   "cell_type": "markdown",
   "id": "ce4b65f8",
   "metadata": {},
   "source": [
    "##### Display the first 10 rows"
   ]
  },
  {
   "cell_type": "code",
   "execution_count": 316,
   "id": "a7a983ab",
   "metadata": {},
   "outputs": [
    {
     "data": {
      "text/html": [
       "<div>\n",
       "<style scoped>\n",
       "    .dataframe tbody tr th:only-of-type {\n",
       "        vertical-align: middle;\n",
       "    }\n",
       "\n",
       "    .dataframe tbody tr th {\n",
       "        vertical-align: top;\n",
       "    }\n",
       "\n",
       "    .dataframe thead th {\n",
       "        text-align: right;\n",
       "    }\n",
       "</style>\n",
       "<table border=\"1\" class=\"dataframe\">\n",
       "  <thead>\n",
       "    <tr style=\"text-align: right;\">\n",
       "      <th></th>\n",
       "      <th>PassengerId</th>\n",
       "      <th>Survived</th>\n",
       "      <th>Pclass</th>\n",
       "      <th>Name</th>\n",
       "      <th>Sex</th>\n",
       "      <th>Age</th>\n",
       "      <th>SibSp</th>\n",
       "      <th>Parch</th>\n",
       "      <th>Ticket</th>\n",
       "      <th>Fare</th>\n",
       "      <th>Cabin</th>\n",
       "      <th>Embarked</th>\n",
       "    </tr>\n",
       "  </thead>\n",
       "  <tbody>\n",
       "    <tr>\n",
       "      <th>0</th>\n",
       "      <td>1</td>\n",
       "      <td>0</td>\n",
       "      <td>3</td>\n",
       "      <td>Braund, Mr. Owen Harris</td>\n",
       "      <td>male</td>\n",
       "      <td>22.0</td>\n",
       "      <td>1</td>\n",
       "      <td>0</td>\n",
       "      <td>A/5 21171</td>\n",
       "      <td>7.2500</td>\n",
       "      <td>NaN</td>\n",
       "      <td>S</td>\n",
       "    </tr>\n",
       "    <tr>\n",
       "      <th>1</th>\n",
       "      <td>2</td>\n",
       "      <td>1</td>\n",
       "      <td>1</td>\n",
       "      <td>Cumings, Mrs. John Bradley (Florence Briggs Th...</td>\n",
       "      <td>female</td>\n",
       "      <td>38.0</td>\n",
       "      <td>1</td>\n",
       "      <td>0</td>\n",
       "      <td>PC 17599</td>\n",
       "      <td>71.2833</td>\n",
       "      <td>C85</td>\n",
       "      <td>C</td>\n",
       "    </tr>\n",
       "    <tr>\n",
       "      <th>2</th>\n",
       "      <td>3</td>\n",
       "      <td>1</td>\n",
       "      <td>3</td>\n",
       "      <td>Heikkinen, Miss. Laina</td>\n",
       "      <td>female</td>\n",
       "      <td>26.0</td>\n",
       "      <td>0</td>\n",
       "      <td>0</td>\n",
       "      <td>STON/O2. 3101282</td>\n",
       "      <td>7.9250</td>\n",
       "      <td>NaN</td>\n",
       "      <td>S</td>\n",
       "    </tr>\n",
       "    <tr>\n",
       "      <th>3</th>\n",
       "      <td>4</td>\n",
       "      <td>1</td>\n",
       "      <td>1</td>\n",
       "      <td>Futrelle, Mrs. Jacques Heath (Lily May Peel)</td>\n",
       "      <td>female</td>\n",
       "      <td>35.0</td>\n",
       "      <td>1</td>\n",
       "      <td>0</td>\n",
       "      <td>113803</td>\n",
       "      <td>53.1000</td>\n",
       "      <td>C123</td>\n",
       "      <td>S</td>\n",
       "    </tr>\n",
       "    <tr>\n",
       "      <th>4</th>\n",
       "      <td>5</td>\n",
       "      <td>0</td>\n",
       "      <td>3</td>\n",
       "      <td>Allen, Mr. William Henry</td>\n",
       "      <td>male</td>\n",
       "      <td>35.0</td>\n",
       "      <td>0</td>\n",
       "      <td>0</td>\n",
       "      <td>373450</td>\n",
       "      <td>8.0500</td>\n",
       "      <td>NaN</td>\n",
       "      <td>S</td>\n",
       "    </tr>\n",
       "    <tr>\n",
       "      <th>5</th>\n",
       "      <td>6</td>\n",
       "      <td>0</td>\n",
       "      <td>3</td>\n",
       "      <td>Moran, Mr. James</td>\n",
       "      <td>male</td>\n",
       "      <td>NaN</td>\n",
       "      <td>0</td>\n",
       "      <td>0</td>\n",
       "      <td>330877</td>\n",
       "      <td>8.4583</td>\n",
       "      <td>NaN</td>\n",
       "      <td>Q</td>\n",
       "    </tr>\n",
       "    <tr>\n",
       "      <th>6</th>\n",
       "      <td>7</td>\n",
       "      <td>0</td>\n",
       "      <td>1</td>\n",
       "      <td>McCarthy, Mr. Timothy J</td>\n",
       "      <td>male</td>\n",
       "      <td>54.0</td>\n",
       "      <td>0</td>\n",
       "      <td>0</td>\n",
       "      <td>17463</td>\n",
       "      <td>51.8625</td>\n",
       "      <td>E46</td>\n",
       "      <td>S</td>\n",
       "    </tr>\n",
       "    <tr>\n",
       "      <th>7</th>\n",
       "      <td>8</td>\n",
       "      <td>0</td>\n",
       "      <td>3</td>\n",
       "      <td>Palsson, Master. Gosta Leonard</td>\n",
       "      <td>male</td>\n",
       "      <td>2.0</td>\n",
       "      <td>3</td>\n",
       "      <td>1</td>\n",
       "      <td>349909</td>\n",
       "      <td>21.0750</td>\n",
       "      <td>NaN</td>\n",
       "      <td>S</td>\n",
       "    </tr>\n",
       "    <tr>\n",
       "      <th>8</th>\n",
       "      <td>9</td>\n",
       "      <td>1</td>\n",
       "      <td>3</td>\n",
       "      <td>Johnson, Mrs. Oscar W (Elisabeth Vilhelmina Berg)</td>\n",
       "      <td>female</td>\n",
       "      <td>27.0</td>\n",
       "      <td>0</td>\n",
       "      <td>2</td>\n",
       "      <td>347742</td>\n",
       "      <td>11.1333</td>\n",
       "      <td>NaN</td>\n",
       "      <td>S</td>\n",
       "    </tr>\n",
       "    <tr>\n",
       "      <th>9</th>\n",
       "      <td>10</td>\n",
       "      <td>1</td>\n",
       "      <td>2</td>\n",
       "      <td>Nasser, Mrs. Nicholas (Adele Achem)</td>\n",
       "      <td>female</td>\n",
       "      <td>14.0</td>\n",
       "      <td>1</td>\n",
       "      <td>0</td>\n",
       "      <td>237736</td>\n",
       "      <td>30.0708</td>\n",
       "      <td>NaN</td>\n",
       "      <td>C</td>\n",
       "    </tr>\n",
       "  </tbody>\n",
       "</table>\n",
       "</div>"
      ],
      "text/plain": [
       "   PassengerId  Survived  Pclass  \\\n",
       "0            1         0       3   \n",
       "1            2         1       1   \n",
       "2            3         1       3   \n",
       "3            4         1       1   \n",
       "4            5         0       3   \n",
       "5            6         0       3   \n",
       "6            7         0       1   \n",
       "7            8         0       3   \n",
       "8            9         1       3   \n",
       "9           10         1       2   \n",
       "\n",
       "                                                Name     Sex   Age  SibSp  \\\n",
       "0                            Braund, Mr. Owen Harris    male  22.0      1   \n",
       "1  Cumings, Mrs. John Bradley (Florence Briggs Th...  female  38.0      1   \n",
       "2                             Heikkinen, Miss. Laina  female  26.0      0   \n",
       "3       Futrelle, Mrs. Jacques Heath (Lily May Peel)  female  35.0      1   \n",
       "4                           Allen, Mr. William Henry    male  35.0      0   \n",
       "5                                   Moran, Mr. James    male   NaN      0   \n",
       "6                            McCarthy, Mr. Timothy J    male  54.0      0   \n",
       "7                     Palsson, Master. Gosta Leonard    male   2.0      3   \n",
       "8  Johnson, Mrs. Oscar W (Elisabeth Vilhelmina Berg)  female  27.0      0   \n",
       "9                Nasser, Mrs. Nicholas (Adele Achem)  female  14.0      1   \n",
       "\n",
       "   Parch            Ticket     Fare Cabin Embarked  \n",
       "0      0         A/5 21171   7.2500   NaN        S  \n",
       "1      0          PC 17599  71.2833   C85        C  \n",
       "2      0  STON/O2. 3101282   7.9250   NaN        S  \n",
       "3      0            113803  53.1000  C123        S  \n",
       "4      0            373450   8.0500   NaN        S  \n",
       "5      0            330877   8.4583   NaN        Q  \n",
       "6      0             17463  51.8625   E46        S  \n",
       "7      1            349909  21.0750   NaN        S  \n",
       "8      2            347742  11.1333   NaN        S  \n",
       "9      0            237736  30.0708   NaN        C  "
      ]
     },
     "execution_count": 316,
     "metadata": {},
     "output_type": "execute_result"
    }
   ],
   "source": [
    "df.head(10)"
   ]
  },
  {
   "cell_type": "markdown",
   "id": "b557f375",
   "metadata": {},
   "source": [
    "##### Print the column names and their data types"
   ]
  },
  {
   "cell_type": "code",
   "execution_count": 49,
   "id": "6dd7bffc",
   "metadata": {},
   "outputs": [
    {
     "data": {
      "text/plain": [
       "PassengerId      int64\n",
       "Survived         int64\n",
       "Pclass           int64\n",
       "Name            object\n",
       "Sex             object\n",
       "Age             object\n",
       "SibSp            int64\n",
       "Parch            int64\n",
       "Ticket          object\n",
       "Fare           float64\n",
       "Cabin           object\n",
       "Embarked        object\n",
       "dtype: object"
      ]
     },
     "execution_count": 49,
     "metadata": {},
     "output_type": "execute_result"
    }
   ],
   "source": [
    "df.dtypes"
   ]
  },
  {
   "cell_type": "markdown",
   "id": "36f99dfb",
   "metadata": {},
   "source": [
    "##### view basic statistics (mean, min, max, etc.)."
   ]
  },
  {
   "cell_type": "code",
   "execution_count": 14,
   "id": "517c6387",
   "metadata": {},
   "outputs": [
    {
     "data": {
      "text/html": [
       "<div>\n",
       "<style scoped>\n",
       "    .dataframe tbody tr th:only-of-type {\n",
       "        vertical-align: middle;\n",
       "    }\n",
       "\n",
       "    .dataframe tbody tr th {\n",
       "        vertical-align: top;\n",
       "    }\n",
       "\n",
       "    .dataframe thead th {\n",
       "        text-align: right;\n",
       "    }\n",
       "</style>\n",
       "<table border=\"1\" class=\"dataframe\">\n",
       "  <thead>\n",
       "    <tr style=\"text-align: right;\">\n",
       "      <th></th>\n",
       "      <th>PassengerId</th>\n",
       "      <th>Survived</th>\n",
       "      <th>Pclass</th>\n",
       "      <th>Name</th>\n",
       "      <th>Sex</th>\n",
       "      <th>Age</th>\n",
       "      <th>SibSp</th>\n",
       "      <th>Parch</th>\n",
       "      <th>Ticket</th>\n",
       "      <th>Fare</th>\n",
       "      <th>Cabin</th>\n",
       "      <th>Embarked</th>\n",
       "    </tr>\n",
       "  </thead>\n",
       "  <tbody>\n",
       "    <tr>\n",
       "      <th>count</th>\n",
       "      <td>891.000000</td>\n",
       "      <td>891.000000</td>\n",
       "      <td>891.000000</td>\n",
       "      <td>891</td>\n",
       "      <td>891</td>\n",
       "      <td>714.000000</td>\n",
       "      <td>891.000000</td>\n",
       "      <td>891.000000</td>\n",
       "      <td>891</td>\n",
       "      <td>891.000000</td>\n",
       "      <td>204</td>\n",
       "      <td>889</td>\n",
       "    </tr>\n",
       "    <tr>\n",
       "      <th>unique</th>\n",
       "      <td>NaN</td>\n",
       "      <td>NaN</td>\n",
       "      <td>NaN</td>\n",
       "      <td>891</td>\n",
       "      <td>2</td>\n",
       "      <td>NaN</td>\n",
       "      <td>NaN</td>\n",
       "      <td>NaN</td>\n",
       "      <td>681</td>\n",
       "      <td>NaN</td>\n",
       "      <td>147</td>\n",
       "      <td>3</td>\n",
       "    </tr>\n",
       "    <tr>\n",
       "      <th>top</th>\n",
       "      <td>NaN</td>\n",
       "      <td>NaN</td>\n",
       "      <td>NaN</td>\n",
       "      <td>Dooley, Mr. Patrick</td>\n",
       "      <td>male</td>\n",
       "      <td>NaN</td>\n",
       "      <td>NaN</td>\n",
       "      <td>NaN</td>\n",
       "      <td>347082</td>\n",
       "      <td>NaN</td>\n",
       "      <td>G6</td>\n",
       "      <td>S</td>\n",
       "    </tr>\n",
       "    <tr>\n",
       "      <th>freq</th>\n",
       "      <td>NaN</td>\n",
       "      <td>NaN</td>\n",
       "      <td>NaN</td>\n",
       "      <td>1</td>\n",
       "      <td>577</td>\n",
       "      <td>NaN</td>\n",
       "      <td>NaN</td>\n",
       "      <td>NaN</td>\n",
       "      <td>7</td>\n",
       "      <td>NaN</td>\n",
       "      <td>4</td>\n",
       "      <td>644</td>\n",
       "    </tr>\n",
       "    <tr>\n",
       "      <th>mean</th>\n",
       "      <td>446.000000</td>\n",
       "      <td>0.383838</td>\n",
       "      <td>2.308642</td>\n",
       "      <td>NaN</td>\n",
       "      <td>NaN</td>\n",
       "      <td>29.699118</td>\n",
       "      <td>0.523008</td>\n",
       "      <td>0.381594</td>\n",
       "      <td>NaN</td>\n",
       "      <td>32.204208</td>\n",
       "      <td>NaN</td>\n",
       "      <td>NaN</td>\n",
       "    </tr>\n",
       "    <tr>\n",
       "      <th>std</th>\n",
       "      <td>257.353842</td>\n",
       "      <td>0.486592</td>\n",
       "      <td>0.836071</td>\n",
       "      <td>NaN</td>\n",
       "      <td>NaN</td>\n",
       "      <td>14.526497</td>\n",
       "      <td>1.102743</td>\n",
       "      <td>0.806057</td>\n",
       "      <td>NaN</td>\n",
       "      <td>49.693429</td>\n",
       "      <td>NaN</td>\n",
       "      <td>NaN</td>\n",
       "    </tr>\n",
       "    <tr>\n",
       "      <th>min</th>\n",
       "      <td>1.000000</td>\n",
       "      <td>0.000000</td>\n",
       "      <td>1.000000</td>\n",
       "      <td>NaN</td>\n",
       "      <td>NaN</td>\n",
       "      <td>0.420000</td>\n",
       "      <td>0.000000</td>\n",
       "      <td>0.000000</td>\n",
       "      <td>NaN</td>\n",
       "      <td>0.000000</td>\n",
       "      <td>NaN</td>\n",
       "      <td>NaN</td>\n",
       "    </tr>\n",
       "    <tr>\n",
       "      <th>25%</th>\n",
       "      <td>223.500000</td>\n",
       "      <td>0.000000</td>\n",
       "      <td>2.000000</td>\n",
       "      <td>NaN</td>\n",
       "      <td>NaN</td>\n",
       "      <td>20.125000</td>\n",
       "      <td>0.000000</td>\n",
       "      <td>0.000000</td>\n",
       "      <td>NaN</td>\n",
       "      <td>7.910400</td>\n",
       "      <td>NaN</td>\n",
       "      <td>NaN</td>\n",
       "    </tr>\n",
       "    <tr>\n",
       "      <th>50%</th>\n",
       "      <td>446.000000</td>\n",
       "      <td>0.000000</td>\n",
       "      <td>3.000000</td>\n",
       "      <td>NaN</td>\n",
       "      <td>NaN</td>\n",
       "      <td>28.000000</td>\n",
       "      <td>0.000000</td>\n",
       "      <td>0.000000</td>\n",
       "      <td>NaN</td>\n",
       "      <td>14.454200</td>\n",
       "      <td>NaN</td>\n",
       "      <td>NaN</td>\n",
       "    </tr>\n",
       "    <tr>\n",
       "      <th>75%</th>\n",
       "      <td>668.500000</td>\n",
       "      <td>1.000000</td>\n",
       "      <td>3.000000</td>\n",
       "      <td>NaN</td>\n",
       "      <td>NaN</td>\n",
       "      <td>38.000000</td>\n",
       "      <td>1.000000</td>\n",
       "      <td>0.000000</td>\n",
       "      <td>NaN</td>\n",
       "      <td>31.000000</td>\n",
       "      <td>NaN</td>\n",
       "      <td>NaN</td>\n",
       "    </tr>\n",
       "    <tr>\n",
       "      <th>max</th>\n",
       "      <td>891.000000</td>\n",
       "      <td>1.000000</td>\n",
       "      <td>3.000000</td>\n",
       "      <td>NaN</td>\n",
       "      <td>NaN</td>\n",
       "      <td>80.000000</td>\n",
       "      <td>8.000000</td>\n",
       "      <td>6.000000</td>\n",
       "      <td>NaN</td>\n",
       "      <td>512.329200</td>\n",
       "      <td>NaN</td>\n",
       "      <td>NaN</td>\n",
       "    </tr>\n",
       "  </tbody>\n",
       "</table>\n",
       "</div>"
      ],
      "text/plain": [
       "        PassengerId    Survived      Pclass                 Name   Sex  \\\n",
       "count    891.000000  891.000000  891.000000                  891   891   \n",
       "unique          NaN         NaN         NaN                  891     2   \n",
       "top             NaN         NaN         NaN  Dooley, Mr. Patrick  male   \n",
       "freq            NaN         NaN         NaN                    1   577   \n",
       "mean     446.000000    0.383838    2.308642                  NaN   NaN   \n",
       "std      257.353842    0.486592    0.836071                  NaN   NaN   \n",
       "min        1.000000    0.000000    1.000000                  NaN   NaN   \n",
       "25%      223.500000    0.000000    2.000000                  NaN   NaN   \n",
       "50%      446.000000    0.000000    3.000000                  NaN   NaN   \n",
       "75%      668.500000    1.000000    3.000000                  NaN   NaN   \n",
       "max      891.000000    1.000000    3.000000                  NaN   NaN   \n",
       "\n",
       "               Age       SibSp       Parch  Ticket        Fare Cabin Embarked  \n",
       "count   714.000000  891.000000  891.000000     891  891.000000   204      889  \n",
       "unique         NaN         NaN         NaN     681         NaN   147        3  \n",
       "top            NaN         NaN         NaN  347082         NaN    G6        S  \n",
       "freq           NaN         NaN         NaN       7         NaN     4      644  \n",
       "mean     29.699118    0.523008    0.381594     NaN   32.204208   NaN      NaN  \n",
       "std      14.526497    1.102743    0.806057     NaN   49.693429   NaN      NaN  \n",
       "min       0.420000    0.000000    0.000000     NaN    0.000000   NaN      NaN  \n",
       "25%      20.125000    0.000000    0.000000     NaN    7.910400   NaN      NaN  \n",
       "50%      28.000000    0.000000    0.000000     NaN   14.454200   NaN      NaN  \n",
       "75%      38.000000    1.000000    0.000000     NaN   31.000000   NaN      NaN  \n",
       "max      80.000000    8.000000    6.000000     NaN  512.329200   NaN      NaN  "
      ]
     },
     "execution_count": 14,
     "metadata": {},
     "output_type": "execute_result"
    }
   ],
   "source": [
    "\n",
    "df.describe(include='all')"
   ]
  },
  {
   "cell_type": "markdown",
   "id": "3e8ecfb6",
   "metadata": {},
   "source": [
    "##### Check for missing values"
   ]
  },
  {
   "cell_type": "code",
   "execution_count": 16,
   "id": "17467537",
   "metadata": {},
   "outputs": [
    {
     "data": {
      "text/plain": [
       "PassengerId      0\n",
       "Survived         0\n",
       "Pclass           0\n",
       "Name             0\n",
       "Sex              0\n",
       "Age            177\n",
       "SibSp            0\n",
       "Parch            0\n",
       "Ticket           0\n",
       "Fare             0\n",
       "Cabin          687\n",
       "Embarked         2\n",
       "dtype: int64"
      ]
     },
     "execution_count": 16,
     "metadata": {},
     "output_type": "execute_result"
    }
   ],
   "source": [
    "df.isnull().sum()"
   ]
  },
  {
   "cell_type": "markdown",
   "id": "e14427dd",
   "metadata": {},
   "source": [
    "##### Replace missing Age values with the mean age"
   ]
  },
  {
   "cell_type": "code",
   "execution_count": 56,
   "id": "d70ad7f7",
   "metadata": {},
   "outputs": [],
   "source": [
    "df['Age'] = df['Age'].fillna(df['Age'].mean())\n"
   ]
  },
  {
   "cell_type": "markdown",
   "id": "5ae54787",
   "metadata": {},
   "source": [
    "##### Fill missing Embarked values with the most common port"
   ]
  },
  {
   "cell_type": "code",
   "execution_count": 59,
   "id": "8c998b52",
   "metadata": {},
   "outputs": [],
   "source": [
    "\n",
    "df['Embarked'] = df['Embarked'].fillna(df['Embarked'].mode().iloc[0])"
   ]
  },
  {
   "cell_type": "markdown",
   "id": "8a53775f",
   "metadata": {},
   "source": [
    "##### How many passengers were onboard?"
   ]
  },
  {
   "cell_type": "code",
   "execution_count": 87,
   "id": "4dddba5c",
   "metadata": {},
   "outputs": [
    {
     "data": {
      "text/plain": [
       "np.int64(891)"
      ]
     },
     "execution_count": 87,
     "metadata": {},
     "output_type": "execute_result"
    }
   ],
   "source": [
    "total_passengers = df['PassengerId'].count()\n",
    "\n",
    "total_passengers"
   ]
  },
  {
   "cell_type": "markdown",
   "id": "e04ed79d",
   "metadata": {},
   "source": [
    "##### What is the average Age?"
   ]
  },
  {
   "cell_type": "code",
   "execution_count": 65,
   "id": "42e72156",
   "metadata": {},
   "outputs": [
    {
     "data": {
      "text/plain": [
       "np.float64(29.69911764705882)"
      ]
     },
     "execution_count": 65,
     "metadata": {},
     "output_type": "execute_result"
    }
   ],
   "source": [
    "avg_age = df['Age'].mean()\n",
    "\n",
    "avg_age"
   ]
  },
  {
   "cell_type": "markdown",
   "id": "93cdf3dc",
   "metadata": {},
   "source": [
    "##### What is the average Fare?"
   ]
  },
  {
   "cell_type": "code",
   "execution_count": 66,
   "id": "538d7b6f",
   "metadata": {},
   "outputs": [
    {
     "data": {
      "text/plain": [
       "np.float64(32.204207968574636)"
      ]
     },
     "execution_count": 66,
     "metadata": {},
     "output_type": "execute_result"
    }
   ],
   "source": [
    "avg_fare = df['Fare'].mean()\n",
    "\n",
    "avg_fare"
   ]
  },
  {
   "cell_type": "markdown",
   "id": "9a5a3cf0",
   "metadata": {},
   "source": [
    "##### How many males and females were there?"
   ]
  },
  {
   "cell_type": "code",
   "execution_count": 84,
   "id": "47b5f857",
   "metadata": {},
   "outputs": [
    {
     "data": {
      "text/plain": [
       "Sex\n",
       "male      577\n",
       "female    314\n",
       "Name: count, dtype: int64"
      ]
     },
     "execution_count": 84,
     "metadata": {},
     "output_type": "execute_result"
    }
   ],
   "source": [
    "df['Sex'].value_counts()"
   ]
  },
  {
   "cell_type": "markdown",
   "id": "98230279",
   "metadata": {},
   "source": [
    "## Part B – Data Analysis (Pandas)"
   ]
  },
  {
   "cell_type": "markdown",
   "id": "24cd321d",
   "metadata": {},
   "source": [
    "##### How many survived vs. did not survive?"
   ]
  },
  {
   "cell_type": "code",
   "execution_count": 207,
   "id": "d20b48f1",
   "metadata": {},
   "outputs": [
    {
     "data": {
      "text/plain": [
       "Survived\n",
       "Did not survive    549\n",
       "Survived           342\n",
       "Name: count, dtype: int64"
      ]
     },
     "execution_count": 207,
     "metadata": {},
     "output_type": "execute_result"
    }
   ],
   "source": [
    "survival_counts = df['Survived'].value_counts().rename(index={0:'Did not survive',1:'Survived'})\n",
    "\n",
    "survival_counts\n",
    "\n"
   ]
  },
  {
   "cell_type": "markdown",
   "id": "36d4efcf",
   "metadata": {},
   "source": [
    "##### What percentage of passengers survived?"
   ]
  },
  {
   "cell_type": "code",
   "execution_count": 317,
   "id": "1413b1df",
   "metadata": {},
   "outputs": [
    {
     "data": {
      "text/plain": [
       "np.float64(38.38)"
      ]
     },
     "execution_count": 317,
     "metadata": {},
     "output_type": "execute_result"
    }
   ],
   "source": [
    "survived_percent = ((survival_counts['Survived'] / df['Survived'].count()) * 100).round(2)\n",
    "\n",
    "survived_percent"
   ]
  },
  {
   "cell_type": "markdown",
   "id": "06449e13",
   "metadata": {},
   "source": [
    "##### Find survival rates for 1st, 2nd, and 3rd class."
   ]
  },
  {
   "cell_type": "code",
   "execution_count": null,
   "id": "ba21877a",
   "metadata": {},
   "outputs": [
    {
     "data": {
      "text/html": [
       "<div>\n",
       "<style scoped>\n",
       "    .dataframe tbody tr th:only-of-type {\n",
       "        vertical-align: middle;\n",
       "    }\n",
       "\n",
       "    .dataframe tbody tr th {\n",
       "        vertical-align: top;\n",
       "    }\n",
       "\n",
       "    .dataframe thead th {\n",
       "        text-align: right;\n",
       "    }\n",
       "</style>\n",
       "<table border=\"1\" class=\"dataframe\">\n",
       "  <thead>\n",
       "    <tr style=\"text-align: right;\">\n",
       "      <th></th>\n",
       "      <th>survival_rate</th>\n",
       "      <th>Total Passengers</th>\n",
       "      <th>Survived</th>\n",
       "      <th>Did not Survived</th>\n",
       "    </tr>\n",
       "    <tr>\n",
       "      <th>Pclass</th>\n",
       "      <th></th>\n",
       "      <th></th>\n",
       "      <th></th>\n",
       "      <th></th>\n",
       "    </tr>\n",
       "  </thead>\n",
       "  <tbody>\n",
       "    <tr>\n",
       "      <th>1</th>\n",
       "      <td>62.96</td>\n",
       "      <td>216</td>\n",
       "      <td>136</td>\n",
       "      <td>80</td>\n",
       "    </tr>\n",
       "    <tr>\n",
       "      <th>2</th>\n",
       "      <td>47.28</td>\n",
       "      <td>184</td>\n",
       "      <td>87</td>\n",
       "      <td>97</td>\n",
       "    </tr>\n",
       "    <tr>\n",
       "      <th>3</th>\n",
       "      <td>24.24</td>\n",
       "      <td>491</td>\n",
       "      <td>119</td>\n",
       "      <td>372</td>\n",
       "    </tr>\n",
       "  </tbody>\n",
       "</table>\n",
       "</div>"
      ],
      "text/plain": [
       "        survival_rate  Total Passengers  Survived  Did not Survived\n",
       "Pclass                                                             \n",
       "1               62.96               216       136                80\n",
       "2               47.28               184        87                97\n",
       "3               24.24               491       119               372"
      ]
     },
     "execution_count": 127,
     "metadata": {},
     "output_type": "execute_result"
    }
   ],
   "source": [
    "survival_by_class = df.groupby('Pclass')['Survived'].agg(['mean','count','sum']).rename(columns={'mean':'survival_rate', 'count': 'Total Passengers', 'sum': 'Survived'})\n",
    "\n",
    "survival_by_class['Did not Survived'] = survival_by_class['Total Passengers'] - survival_by_class['Survived']\n",
    "\n",
    "survival_by_class['survival_rate'] = (survival_by_class['survival_rate'] * 100).round(2)\n",
    "\n",
    "survival_by_class\n",
    "\n"
   ]
  },
  {
   "cell_type": "markdown",
   "id": "46a0b638",
   "metadata": {},
   "source": [
    "##### Which class had the highest chance of survival?"
   ]
  },
  {
   "cell_type": "code",
   "execution_count": 254,
   "id": "3febe40a",
   "metadata": {},
   "outputs": [
    {
     "data": {
      "text/plain": [
       "np.int64(1)"
      ]
     },
     "execution_count": 254,
     "metadata": {},
     "output_type": "execute_result"
    }
   ],
   "source": [
    "highest_survival_chances_by_class = survival_by_class['survival_rate'].idxmax()\n",
    "\n",
    "highest_survival_chances_by_class"
   ]
  },
  {
   "cell_type": "markdown",
   "id": "ecd6e29f",
   "metadata": {},
   "source": [
    "##### Divide passengers into age groups and Calculate survival rate for each group."
   ]
  },
  {
   "cell_type": "code",
   "execution_count": 319,
   "id": "e9c265dd",
   "metadata": {},
   "outputs": [
    {
     "name": "stderr",
     "output_type": "stream",
     "text": [
      "C:\\Users\\faraz\\AppData\\Local\\Temp\\ipykernel_11020\\990902698.py:6: FutureWarning: The default of observed=False is deprecated and will be changed to True in a future version of pandas. Pass observed=False to retain current behavior or observed=True to adopt the future default and silence this warning.\n",
      "  survival_rate_by_age = (df.groupby('AgeGroup')['Survived'].agg(['mean']).rename(columns={'mean':'Survival rate'}) * 100).round(2)\n"
     ]
    },
    {
     "data": {
      "text/html": [
       "<div>\n",
       "<style scoped>\n",
       "    .dataframe tbody tr th:only-of-type {\n",
       "        vertical-align: middle;\n",
       "    }\n",
       "\n",
       "    .dataframe tbody tr th {\n",
       "        vertical-align: top;\n",
       "    }\n",
       "\n",
       "    .dataframe thead th {\n",
       "        text-align: right;\n",
       "    }\n",
       "</style>\n",
       "<table border=\"1\" class=\"dataframe\">\n",
       "  <thead>\n",
       "    <tr style=\"text-align: right;\">\n",
       "      <th></th>\n",
       "      <th>Survival rate</th>\n",
       "    </tr>\n",
       "    <tr>\n",
       "      <th>AgeGroup</th>\n",
       "      <th></th>\n",
       "    </tr>\n",
       "  </thead>\n",
       "  <tbody>\n",
       "    <tr>\n",
       "      <th>Child (0-12)</th>\n",
       "      <td>57.97</td>\n",
       "    </tr>\n",
       "    <tr>\n",
       "      <th>Teen (13-19)</th>\n",
       "      <td>41.05</td>\n",
       "    </tr>\n",
       "    <tr>\n",
       "      <th>Adult (20-40)</th>\n",
       "      <td>39.00</td>\n",
       "    </tr>\n",
       "    <tr>\n",
       "      <th>Senior (41+)</th>\n",
       "      <td>36.67</td>\n",
       "    </tr>\n",
       "  </tbody>\n",
       "</table>\n",
       "</div>"
      ],
      "text/plain": [
       "               Survival rate\n",
       "AgeGroup                    \n",
       "Child (0-12)           57.97\n",
       "Teen (13-19)           41.05\n",
       "Adult (20-40)          39.00\n",
       "Senior (41+)           36.67"
      ]
     },
     "execution_count": 319,
     "metadata": {},
     "output_type": "execute_result"
    }
   ],
   "source": [
    "\n",
    "bins = [0, 12, 19, 40, np.inf]\n",
    "labels = ['Child (0-12)', 'Teen (13-19)', 'Adult (20-40)', 'Senior (41+)']\n",
    "df['AgeGroup'] = pd.cut(df['Age'], bins=bins, labels=labels, right=True, include_lowest=True)\n",
    "\n",
    "\n",
    "survival_rate_by_age = (df.groupby('AgeGroup')['Survived'].agg(['mean']).rename(columns={'mean':'Survival rate'}) * 100).round(2)\n",
    "\n",
    "survival_rate_by_age"
   ]
  },
  {
   "cell_type": "markdown",
   "id": "f7fe9787",
   "metadata": {},
   "source": [
    "## Part C – Visualization (Matplotlib And Seaborn)"
   ]
  },
  {
   "cell_type": "markdown",
   "id": "01cecffd",
   "metadata": {},
   "source": [
    "##### Bar chart: Number of survivors (0 vs 1)."
   ]
  },
  {
   "cell_type": "code",
   "execution_count": 205,
   "id": "8af8fde4",
   "metadata": {},
   "outputs": [
    {
     "data": {
      "image/png": "[encoded data removed]",
      "text/plain": [
       "<Figure size 600x400 with 1 Axes>"
      ]
     },
     "metadata": {},
     "output_type": "display_data"
    }
   ],
   "source": [
    "\n",
    "counts = df['Survived'].value_counts().sort_index()  \n",
    "plt.figure(figsize=(6,4))\n",
    "plt.bar(counts.index.astype(str), counts.values)\n",
    "plt.title('Number of Survivors (0 vs 1)')\n",
    "plt.xlabel('Survived')\n",
    "plt.ylabel('Count')\n",
    "plt.show()\n"
   ]
  },
  {
   "cell_type": "markdown",
   "id": "84607414",
   "metadata": {},
   "source": [
    "##### Histogram: Distribution of passenger ages (bins = 20)."
   ]
  },
  {
   "cell_type": "code",
   "execution_count": 321,
   "id": "97d18732",
   "metadata": {},
   "outputs": [
    {
     "data": {
      "image/png": "[encoded data removed]",
      "text/plain": [
       "<Figure size 800x400 with 1 Axes>"
      ]
     },
     "metadata": {},
     "output_type": "display_data"
    }
   ],
   "source": [
    "\n",
    "plt.figure(figsize=(8,4))\n",
    "plt.hist(df['Age'], bins=20, edgecolor='black')\n",
    "plt.title('Age Distribution')\n",
    "plt.xlabel('Age')\n",
    "plt.ylabel('Passenger')\n",
    "plt.show()\n"
   ]
  },
  {
   "cell_type": "markdown",
   "id": "0448e32e",
   "metadata": {},
   "source": [
    "##### Pie chart: Gender distribution."
   ]
  },
  {
   "cell_type": "code",
   "execution_count": 322,
   "id": "836f203c",
   "metadata": {},
   "outputs": [
    {
     "data": {
      "image/png": "[encoded data removed]",
      "text/plain": [
       "<Figure size 600x600 with 1 Axes>"
      ]
     },
     "metadata": {},
     "output_type": "display_data"
    }
   ],
   "source": [
    "\n",
    "gender_counts = df['Sex'].value_counts()\n",
    "plt.figure(figsize=(6,6))\n",
    "plt.pie(gender_counts.values, labels=gender_counts.index, autopct='%1.1f%%', startangle=90)\n",
    "plt.title('Gender Distribution')\n",
    "plt.axis('equal')\n",
    "plt.show()\n"
   ]
  },
  {
   "cell_type": "markdown",
   "id": "babfecb3",
   "metadata": {},
   "source": [
    "##### Countplot: Survived by Sex (Who survived more?)."
   ]
  },
  {
   "cell_type": "code",
   "execution_count": 326,
   "id": "49f8f937",
   "metadata": {},
   "outputs": [
    {
     "data": {
      "image/png": "[encoded data removed]",
      "text/plain": [
       "<Figure size 600x400 with 1 Axes>"
      ]
     },
     "metadata": {},
     "output_type": "display_data"
    }
   ],
   "source": [
    "\n",
    "plt.figure(figsize=(6,4))\n",
    "sns.countplot(x='Sex', hue='Survived', data=df)\n",
    "plt.title('Survival by Sex \\n \"0 --> Not Survived\" And  \"1 --> Survived\"')\n",
    "plt.show()"
   ]
  },
  {
   "cell_type": "markdown",
   "id": "ae9cabb8",
   "metadata": {},
   "source": [
    "##### Boxplot: Fare by Pclass (Which class paid more?)."
   ]
  },
  {
   "cell_type": "code",
   "execution_count": 209,
   "id": "a49aedf2",
   "metadata": {},
   "outputs": [
    {
     "data": {
      "image/png": "[encoded data removed]",
      "text/plain": [
       "<Figure size 600x400 with 1 Axes>"
      ]
     },
     "metadata": {},
     "output_type": "display_data"
    }
   ],
   "source": [
    "\n",
    "plt.figure(figsize=(6,4))\n",
    "sns.boxplot(x='Pclass', y='Fare', data=df)\n",
    "plt.title('Fare by Pclass')\n",
    "plt.show()\n"
   ]
  },
  {
   "cell_type": "markdown",
   "id": "511b5319",
   "metadata": {},
   "source": [
    "##### Violinplot: Age by Survived (Age distribution among survivors)."
   ]
  },
  {
   "cell_type": "code",
   "execution_count": 329,
   "id": "9164c635",
   "metadata": {},
   "outputs": [
    {
     "data": {
      "image/png": "[encoded data removed]",
      "text/plain": [
       "<Figure size 600x400 with 1 Axes>"
      ]
     },
     "metadata": {},
     "output_type": "display_data"
    }
   ],
   "source": [
    "\n",
    "plt.figure(figsize=(6,4))\n",
    "sns.violinplot(x='Survived', y='Age', data=df)\n",
    "plt.title('Age Distribution by Survival')\n",
    "plt.show()\n"
   ]
  },
  {
   "cell_type": "markdown",
   "id": "3301b6c7",
   "metadata": {},
   "source": [
    "##### Heatmap: Correlation between numerical columns (Age, Fare, Pclass, Survived)."
   ]
  },
  {
   "cell_type": "code",
   "execution_count": 330,
   "id": "4c70c013",
   "metadata": {},
   "outputs": [
    {
     "data": {
      "image/png": "[encoded data removed]",
      "text/plain": [
       "<Figure size 600x500 with 2 Axes>"
      ]
     },
     "metadata": {},
     "output_type": "display_data"
    }
   ],
   "source": [
    "\n",
    "num_cols = ['Age','Fare','Pclass','Survived']\n",
    "corr = df[num_cols].corr()\n",
    "plt.figure(figsize=(6,5))\n",
    "sns.heatmap(corr, annot=True, fmt='.2f', square=True)\n",
    "plt.title('Correlation Heatmap')\n",
    "plt.show()\n"
   ]
  },
  {
   "cell_type": "markdown",
   "id": "1e63e654",
   "metadata": {},
   "source": [
    "## Part D – Probability Concepts"
   ]
  },
  {
   "cell_type": "markdown",
   "id": "f784faa6",
   "metadata": {},
   "source": [
    "##### Probability a passenger survived:"
   ]
  },
  {
   "cell_type": "code",
   "execution_count": 224,
   "id": "b0171150",
   "metadata": {},
   "outputs": [
    {
     "data": {
      "text/plain": [
       "np.float64(38.38)"
      ]
     },
     "execution_count": 224,
     "metadata": {},
     "output_type": "execute_result"
    }
   ],
   "source": [
    "total = df['PassengerId'].count()\n",
    "survivors = df['Survived'].sum()\n",
    "passenger_survived = ((survivors / total)*100).round(2)\n",
    "\n",
    "passenger_survived"
   ]
  },
  {
   "cell_type": "markdown",
   "id": "3950c8df",
   "metadata": {},
   "source": [
    "##### Probability a female survived:"
   ]
  },
  {
   "cell_type": "code",
   "execution_count": 227,
   "id": "857fe328",
   "metadata": {},
   "outputs": [
    {
     "data": {
      "text/plain": [
       "np.float64(74.2)"
      ]
     },
     "execution_count": 227,
     "metadata": {},
     "output_type": "execute_result"
    }
   ],
   "source": [
    "females = df[df['Sex']=='female']\n",
    "\n",
    "females_survived = ((females['Survived'].sum() / females['Survived'].count())*100).round(2)\n",
    "\n",
    "females_survived"
   ]
  },
  {
   "cell_type": "markdown",
   "id": "1071c388",
   "metadata": {},
   "source": [
    "##### Probability a male survived:"
   ]
  },
  {
   "cell_type": "code",
   "execution_count": null,
   "id": "5836e127",
   "metadata": {},
   "outputs": [
    {
     "data": {
      "text/plain": [
       "np.float64(18.89)"
      ]
     },
     "execution_count": 236,
     "metadata": {},
     "output_type": "execute_result"
    }
   ],
   "source": [
    "males = df[df['Sex']=='male']\n",
    "\n",
    "males_survived = ((males['Survived'].sum() / males['Survived'].count())*100).round(2)\n",
    "\n",
    "males_survived"
   ]
  },
  {
   "cell_type": "markdown",
   "id": "72f82287",
   "metadata": {},
   "source": [
    "##### Compare probabilities across Pclass."
   ]
  },
  {
   "cell_type": "code",
   "execution_count": 239,
   "id": "148bc260",
   "metadata": {},
   "outputs": [
    {
     "data": {
      "text/html": [
       "<div>\n",
       "<style scoped>\n",
       "    .dataframe tbody tr th:only-of-type {\n",
       "        vertical-align: middle;\n",
       "    }\n",
       "\n",
       "    .dataframe tbody tr th {\n",
       "        vertical-align: top;\n",
       "    }\n",
       "\n",
       "    .dataframe thead th {\n",
       "        text-align: right;\n",
       "    }\n",
       "</style>\n",
       "<table border=\"1\" class=\"dataframe\">\n",
       "  <thead>\n",
       "    <tr style=\"text-align: right;\">\n",
       "      <th></th>\n",
       "      <th>Survival rate</th>\n",
       "    </tr>\n",
       "    <tr>\n",
       "      <th>Pclass</th>\n",
       "      <th></th>\n",
       "    </tr>\n",
       "  </thead>\n",
       "  <tbody>\n",
       "    <tr>\n",
       "      <th>1</th>\n",
       "      <td>62.96</td>\n",
       "    </tr>\n",
       "    <tr>\n",
       "      <th>2</th>\n",
       "      <td>47.28</td>\n",
       "    </tr>\n",
       "    <tr>\n",
       "      <th>3</th>\n",
       "      <td>24.24</td>\n",
       "    </tr>\n",
       "  </tbody>\n",
       "</table>\n",
       "</div>"
      ],
      "text/plain": [
       "        Survival rate\n",
       "Pclass               \n",
       "1               62.96\n",
       "2               47.28\n",
       "3               24.24"
      ]
     },
     "execution_count": 239,
     "metadata": {},
     "output_type": "execute_result"
    }
   ],
   "source": [
    "\n",
    "pclasses_probabilities = ((df.groupby('Pclass')['Survived'].agg(['mean']).rename(columns={'mean':'Survival rate'}))*100).round(2)\n",
    "\n",
    "\n",
    "pclasses_probabilities"
   ]
  },
  {
   "cell_type": "markdown",
   "id": "c0aaa344",
   "metadata": {},
   "source": [
    "##### Theoretical Probability (Assumptions)"
   ]
  },
  {
   "cell_type": "code",
   "execution_count": 313,
   "id": "987d27ee",
   "metadata": {},
   "outputs": [
    {
     "data": {
      "text/html": [
       "<div>\n",
       "<style scoped>\n",
       "    .dataframe tbody tr th:only-of-type {\n",
       "        vertical-align: middle;\n",
       "    }\n",
       "\n",
       "    .dataframe tbody tr th {\n",
       "        vertical-align: top;\n",
       "    }\n",
       "\n",
       "    .dataframe thead th {\n",
       "        text-align: right;\n",
       "    }\n",
       "</style>\n",
       "<table border=\"1\" class=\"dataframe\">\n",
       "  <thead>\n",
       "    <tr style=\"text-align: right;\">\n",
       "      <th></th>\n",
       "      <th>Categories</th>\n",
       "      <th>Theoretical Probability</th>\n",
       "    </tr>\n",
       "  </thead>\n",
       "  <tbody>\n",
       "    <tr>\n",
       "      <th>0</th>\n",
       "      <td>P(Survived)</td>\n",
       "      <td>50.00</td>\n",
       "    </tr>\n",
       "    <tr>\n",
       "      <th>1</th>\n",
       "      <td>P(Female Survived)</td>\n",
       "      <td>50.00</td>\n",
       "    </tr>\n",
       "    <tr>\n",
       "      <th>2</th>\n",
       "      <td>P(Male Survived)</td>\n",
       "      <td>50.00</td>\n",
       "    </tr>\n",
       "    <tr>\n",
       "      <th>3</th>\n",
       "      <td>P(Survived Pclass=1)</td>\n",
       "      <td>33.33</td>\n",
       "    </tr>\n",
       "    <tr>\n",
       "      <th>4</th>\n",
       "      <td>P(Survived Pclass=2)</td>\n",
       "      <td>33.33</td>\n",
       "    </tr>\n",
       "    <tr>\n",
       "      <th>5</th>\n",
       "      <td>P(Survived Pclass=3)</td>\n",
       "      <td>33.33</td>\n",
       "    </tr>\n",
       "  </tbody>\n",
       "</table>\n",
       "</div>"
      ],
      "text/plain": [
       "             Categories  Theoretical Probability\n",
       "0           P(Survived)                    50.00\n",
       "1    P(Female Survived)                    50.00\n",
       "2      P(Male Survived)                    50.00\n",
       "3  P(Survived Pclass=1)                    33.33\n",
       "4  P(Survived Pclass=2)                    33.33\n",
       "5  P(Survived Pclass=3)                    33.33"
      ]
     },
     "execution_count": 313,
     "metadata": {},
     "output_type": "execute_result"
    }
   ],
   "source": [
    "theoretical_probabilities = {\n",
    "    'P(Survived)': 0.5,\n",
    "    'P(Female Survived)': 0.5,\n",
    "    'P(Male Survived)': 0.5,\n",
    "    'P(Survived Pclass=1)': 1/3,\n",
    "    'P(Survived Pclass=2)': 1/3,\n",
    "    'P(Survived Pclass=3)': 1/3\n",
    "}\n",
    "\n",
    "\n",
    "theoretical_probabilities_df = pd.DataFrame(list(theoretical_probabilities.items()), columns=['Categories','Theoretical Probability'])\n",
    "\n",
    "theoretical_probabilities_df['Theoretical Probability'] = (theoretical_probabilities_df['Theoretical Probability'] * 100).round(2)\n",
    "\n",
    "theoretical_probabilities_df\n"
   ]
  },
  {
   "cell_type": "markdown",
   "id": "503ddea5",
   "metadata": {},
   "source": [
    "## Part E – Insights And Reporting"
   ]
  },
  {
   "cell_type": "markdown",
   "id": "a812367f",
   "metadata": {},
   "source": [
    "##### Did women survive at a higher rate than men?"
   ]
  },
  {
   "cell_type": "code",
   "execution_count": 248,
   "id": "e575dd80",
   "metadata": {},
   "outputs": [
    {
     "name": "stdout",
     "output_type": "stream",
     "text": [
      "Yes\n"
     ]
    }
   ],
   "source": [
    "print('Yes') if females_survived > males_survived else print('No')"
   ]
  },
  {
   "cell_type": "markdown",
   "id": "83b24c9e",
   "metadata": {},
   "source": [
    "##### Which class had the best survival chance?"
   ]
  },
  {
   "cell_type": "code",
   "execution_count": 256,
   "id": "1f87e230",
   "metadata": {},
   "outputs": [
    {
     "name": "stdout",
     "output_type": "stream",
     "text": [
      "Class: 1\n"
     ]
    }
   ],
   "source": [
    "print(f'Class: {highest_survival_chances_by_class}')"
   ]
  },
  {
   "cell_type": "markdown",
   "id": "870c160a",
   "metadata": {},
   "source": [
    "##### Did age play a role in survival?"
   ]
  },
  {
   "cell_type": "code",
   "execution_count": 263,
   "id": "2b440fd1",
   "metadata": {},
   "outputs": [
    {
     "name": "stdout",
     "output_type": "stream",
     "text": [
      "Yes! because \"Child (0-12)\" Survived more than \"Teen (13-19)\", \"Adult (20-40)\" and \"Senior (41+)\"\n"
     ]
    }
   ],
   "source": [
    "print(f'Yes! because \"{survival_rate_by_age.index[0]}\" Survived more than \"{survival_rate_by_age.index[1]}\", \"{survival_rate_by_age.index[2]}\" and \"{survival_rate_by_age.index[3]}\"')"
   ]
  },
  {
   "cell_type": "markdown",
   "id": "d980bd9f",
   "metadata": {},
   "source": [
    "##### Was Fare (ticket price) related to survival?"
   ]
  },
  {
   "cell_type": "code",
   "execution_count": 268,
   "id": "3475543d",
   "metadata": {},
   "outputs": [
    {
     "name": "stdout",
     "output_type": "stream",
     "text": [
      "Yes\n"
     ]
    }
   ],
   "source": [
    "fare_survival_corr = df['Fare'].corr(df['Survived'])\n",
    "\n",
    "if fare_survival_corr > 0:\n",
    "    print(\"Yes\")\n",
    "else:\n",
    "    print(\"No\")\n"
   ]
  },
  {
   "cell_type": "markdown",
   "id": "06c82bfa",
   "metadata": {},
   "source": [
    "##### How do empirical probabilities differ from theoretical probabilities?"
   ]
  },
  {
   "cell_type": "markdown",
   "id": "9ee6a2a1",
   "metadata": {},
   "source": [
    "##### Empirical probabilities:"
   ]
  },
  {
   "cell_type": "code",
   "execution_count": 311,
   "id": "38459114",
   "metadata": {},
   "outputs": [
    {
     "data": {
      "text/html": [
       "<div>\n",
       "<style scoped>\n",
       "    .dataframe tbody tr th:only-of-type {\n",
       "        vertical-align: middle;\n",
       "    }\n",
       "\n",
       "    .dataframe tbody tr th {\n",
       "        vertical-align: top;\n",
       "    }\n",
       "\n",
       "    .dataframe thead th {\n",
       "        text-align: right;\n",
       "    }\n",
       "</style>\n",
       "<table border=\"1\" class=\"dataframe\">\n",
       "  <thead>\n",
       "    <tr style=\"text-align: right;\">\n",
       "      <th></th>\n",
       "      <th>Categories</th>\n",
       "      <th>Empirical Probability</th>\n",
       "    </tr>\n",
       "  </thead>\n",
       "  <tbody>\n",
       "    <tr>\n",
       "      <th>0</th>\n",
       "      <td>P(Survived)</td>\n",
       "      <td>38.38</td>\n",
       "    </tr>\n",
       "    <tr>\n",
       "      <th>1</th>\n",
       "      <td>P(Female Survived)</td>\n",
       "      <td>74.20</td>\n",
       "    </tr>\n",
       "    <tr>\n",
       "      <th>2</th>\n",
       "      <td>P(Male Survived)</td>\n",
       "      <td>18.89</td>\n",
       "    </tr>\n",
       "    <tr>\n",
       "      <th>3</th>\n",
       "      <td>P(Survived Pclass=1)</td>\n",
       "      <td>62.96</td>\n",
       "    </tr>\n",
       "    <tr>\n",
       "      <th>4</th>\n",
       "      <td>P(Survived Pclass=2)</td>\n",
       "      <td>47.28</td>\n",
       "    </tr>\n",
       "    <tr>\n",
       "      <th>5</th>\n",
       "      <td>P(Survived Pclass=3)</td>\n",
       "      <td>24.24</td>\n",
       "    </tr>\n",
       "  </tbody>\n",
       "</table>\n",
       "</div>"
      ],
      "text/plain": [
       "             Categories  Empirical Probability\n",
       "0           P(Survived)                  38.38\n",
       "1    P(Female Survived)                  74.20\n",
       "2      P(Male Survived)                  18.89\n",
       "3  P(Survived Pclass=1)                  62.96\n",
       "4  P(Survived Pclass=2)                  47.28\n",
       "5  P(Survived Pclass=3)                  24.24"
      ]
     },
     "execution_count": 311,
     "metadata": {},
     "output_type": "execute_result"
    }
   ],
   "source": [
    "empirical_probabilities = {\n",
    "    \"P(Survived)\": passenger_survived,\n",
    "    \"P(Female Survived)\": females_survived,\n",
    "    \"P(Male Survived)\": males_survived,\n",
    "    \"P(Survived Pclass=1)\": survival_by_class.loc[1, 'survival_rate'],\n",
    "    \"P(Survived Pclass=2)\": survival_by_class.loc[2, 'survival_rate'],\n",
    "    \"P(Survived Pclass=3)\": survival_by_class.loc[3, 'survival_rate'],\n",
    "}\n",
    "\n",
    "\n",
    "empirical_probabilities_df = pd.DataFrame(list(empirical_probabilities.items()), columns=['Categories', 'Empirical Probability'])\n",
    "\n",
    "empirical_probabilities_df"
   ]
  },
  {
   "cell_type": "markdown",
   "id": "c8dd3c05",
   "metadata": {},
   "source": [
    "##### Empirical probabilities and theoretical probabilities comparison."
   ]
  },
  {
   "cell_type": "code",
   "execution_count": 314,
   "id": "4a13a639",
   "metadata": {},
   "outputs": [
    {
     "data": {
      "text/html": [
       "<div>\n",
       "<style scoped>\n",
       "    .dataframe tbody tr th:only-of-type {\n",
       "        vertical-align: middle;\n",
       "    }\n",
       "\n",
       "    .dataframe tbody tr th {\n",
       "        vertical-align: top;\n",
       "    }\n",
       "\n",
       "    .dataframe thead th {\n",
       "        text-align: right;\n",
       "    }\n",
       "</style>\n",
       "<table border=\"1\" class=\"dataframe\">\n",
       "  <thead>\n",
       "    <tr style=\"text-align: right;\">\n",
       "      <th></th>\n",
       "      <th>Categories</th>\n",
       "      <th>Empirical Probability</th>\n",
       "      <th>Theoretical Probability</th>\n",
       "      <th>Emp - Theor</th>\n",
       "    </tr>\n",
       "  </thead>\n",
       "  <tbody>\n",
       "    <tr>\n",
       "      <th>0</th>\n",
       "      <td>P(Survived)</td>\n",
       "      <td>38.38</td>\n",
       "      <td>50.00</td>\n",
       "      <td>-11.62</td>\n",
       "    </tr>\n",
       "    <tr>\n",
       "      <th>1</th>\n",
       "      <td>P(Female Survived)</td>\n",
       "      <td>74.20</td>\n",
       "      <td>50.00</td>\n",
       "      <td>24.20</td>\n",
       "    </tr>\n",
       "    <tr>\n",
       "      <th>2</th>\n",
       "      <td>P(Male Survived)</td>\n",
       "      <td>18.89</td>\n",
       "      <td>50.00</td>\n",
       "      <td>-31.11</td>\n",
       "    </tr>\n",
       "    <tr>\n",
       "      <th>3</th>\n",
       "      <td>P(Survived Pclass=1)</td>\n",
       "      <td>62.96</td>\n",
       "      <td>33.33</td>\n",
       "      <td>29.63</td>\n",
       "    </tr>\n",
       "    <tr>\n",
       "      <th>4</th>\n",
       "      <td>P(Survived Pclass=2)</td>\n",
       "      <td>47.28</td>\n",
       "      <td>33.33</td>\n",
       "      <td>13.95</td>\n",
       "    </tr>\n",
       "    <tr>\n",
       "      <th>5</th>\n",
       "      <td>P(Survived Pclass=3)</td>\n",
       "      <td>24.24</td>\n",
       "      <td>33.33</td>\n",
       "      <td>-9.09</td>\n",
       "    </tr>\n",
       "  </tbody>\n",
       "</table>\n",
       "</div>"
      ],
      "text/plain": [
       "             Categories  Empirical Probability  Theoretical Probability  \\\n",
       "0           P(Survived)                  38.38                    50.00   \n",
       "1    P(Female Survived)                  74.20                    50.00   \n",
       "2      P(Male Survived)                  18.89                    50.00   \n",
       "3  P(Survived Pclass=1)                  62.96                    33.33   \n",
       "4  P(Survived Pclass=2)                  47.28                    33.33   \n",
       "5  P(Survived Pclass=3)                  24.24                    33.33   \n",
       "\n",
       "   Emp - Theor  \n",
       "0       -11.62  \n",
       "1        24.20  \n",
       "2       -31.11  \n",
       "3        29.63  \n",
       "4        13.95  \n",
       "5        -9.09  "
      ]
     },
     "execution_count": 314,
     "metadata": {},
     "output_type": "execute_result"
    }
   ],
   "source": [
    "comparison_df = pd.merge(empirical_probabilities_df, theoretical_probabilities_df, on=\"Categories\")\n",
    "\n",
    "comparison_df[\"Emp - Theor\"] = (comparison_df[\"Empirical Probability\"] - comparison_df[\"Theoretical Probability\"]).round(2)\n",
    "\n",
    "comparison_df\n"
   ]
  },
  {
   "cell_type": "markdown",
   "id": "34dfb4fe",
   "metadata": {},
   "source": [
    "### Summary of Analysis  \n",
    "\n",
    "-  Overall survival rate was about **38%**, which is lower than the theoretical assumption of 50%.  \n",
    "\n",
    "-  Females had a much higher survival rate (**~74%**) compared to males (**~19%**), showing a strong gender difference.  \n",
    "\n",
    "-  First-class passengers survived the most (**~63%**), followed by second-class (**~47%**), while third-class survival was the lowest (**~24%**).  \n",
    "\n",
    "-  Fare (ticket price) was positively related to survival — passengers who paid higher fares had better survival chances.  \n",
    "\n",
    "-  Empirical probabilities deviate significantly from theoretical ones (e.g., 74% vs. 50% for females, 63% vs. 33% for 1st class), showing survival was not random.  \n",
    "\n",
    "-  The results reflect the historical “**women and children first**” and **social-class advantage** during evacuation.  \n",
    "\n",
    "-  In conclusion, **gender, class, and fare** were the strongest factors influencing survival, not chance alone.  \n"
   ]
  }
 ],
 "metadata": {
  "kernelspec": {
   "display_name": "base",
   "language": "python",
   "name": "python3"
  },
  "language_info": {
   "codemirror_mode": {
    "name": "ipython",
    "version": 3
   },
   "file_extension": ".py",
   "mimetype": "text/x-python",
   "name": "python",
   "nbconvert_exporter": "python",
   "pygments_lexer": "ipython3",
   "version": "3.13.5"
  }
 },
 "nbformat": 4,
 "nbformat_minor": 5
}
